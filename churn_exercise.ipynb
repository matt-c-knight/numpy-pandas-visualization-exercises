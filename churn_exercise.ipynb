{
 "cells": [
  {
   "cell_type": "code",
   "execution_count": 4,
   "metadata": {},
   "outputs": [],
   "source": [
    "import numpy as np\n",
    "import pandas as pd"
   ]
  },
  {
   "cell_type": "code",
   "execution_count": null,
   "metadata": {},
   "outputs": [],
   "source": [
    "df = pd.read_csv('cust_det.csv')  "
   ]
  },
  {
   "cell_type": "code",
   "execution_count": null,
   "metadata": {},
   "outputs": [],
   "source": [
    "df\n"
   ]
  },
  {
   "cell_type": "code",
   "execution_count": null,
   "metadata": {},
   "outputs": [],
   "source": [
    "m2m = df.loc[df['contract_type'] == 0]"
   ]
  },
  {
   "cell_type": "code",
   "execution_count": null,
   "metadata": {},
   "outputs": [],
   "source": [
    "df.groupby(['contract_type','is_senior_citizen']).count()"
   ]
  },
  {
   "cell_type": "code",
   "execution_count": null,
   "metadata": {},
   "outputs": [],
   "source": [
    "df = pd.read_csv('cust_details.csv') "
   ]
  },
  {
   "cell_type": "code",
   "execution_count": null,
   "metadata": {},
   "outputs": [],
   "source": [
    "df"
   ]
  },
  {
   "cell_type": "code",
   "execution_count": 5,
   "metadata": {},
   "outputs": [],
   "source": [
    "df = pd.read_csv('copy.csv')  "
   ]
  },
  {
   "cell_type": "code",
   "execution_count": 7,
   "metadata": {},
   "outputs": [
    {
     "data": {
      "text/plain": [
       "0        9.044207\n",
       "1        9.055092\n",
       "2        3.800406\n",
       "3       12.631122\n",
       "4        3.187128\n",
       "          ...    \n",
       "7044    13.470535\n",
       "7045    22.017626\n",
       "7046     1.843936\n",
       "7047    68.204127\n",
       "7048    62.840678\n",
       "Name: tenure, Length: 7049, dtype: float64"
      ]
     },
     "execution_count": 7,
     "metadata": {},
     "output_type": "execute_result"
    }
   ],
   "source": [
    "df.tenure"
   ]
  },
  {
   "cell_type": "code",
   "execution_count": 9,
   "metadata": {},
   "outputs": [
    {
     "name": "stdout",
     "output_type": "stream",
     "text": [
      "<class 'pandas.core.frame.DataFrame'>\n",
      "RangeIndex: 7049 entries, 0 to 7048\n",
      "Data columns (total 29 columns):\n",
      " #   Column                  Non-Null Count  Dtype  \n",
      "---  ------                  --------------  -----  \n",
      " 0   customer_id             7043 non-null   object \n",
      " 1   gender                  7049 non-null   object \n",
      " 2   is_senior_citizen       7049 non-null   int64  \n",
      " 3   partner                 7049 non-null   object \n",
      " 4   dependents              7049 non-null   object \n",
      " 5   phone_service           7049 non-null   int64  \n",
      " 6   internet_service        7049 non-null   int64  \n",
      " 7   contract_type           7049 non-null   int64  \n",
      " 8   payment_type            7049 non-null   object \n",
      " 9   monthly_charges         7049 non-null   float64\n",
      " 10  total_charges           7038 non-null   float64\n",
      " 11  churn                   7049 non-null   object \n",
      " 12  tenure                  7049 non-null   float64\n",
      " 13  tenure-rounded          7049 non-null   float64\n",
      " 14  is_female               7049 non-null   bool   \n",
      " 15  has_churned             7049 non-null   bool   \n",
      " 16  has_phone               7049 non-null   bool   \n",
      " 17  has_internet            7049 non-null   bool   \n",
      " 18  has_phone_and_internet  7049 non-null   bool   \n",
      " 19  partner_dependents      7049 non-null   int64  \n",
      " 20  start_date              7049 non-null   object \n",
      " 21  avg_mon_charges         7049 non-null   object \n",
      " 22  Contract_type           7049 non-null   object \n",
      " 23  Phone_service           7049 non-null   object \n",
      " 24  Internet_service        7049 non-null   object \n",
      " 25  is_ten_less12           7049 non-null   bool   \n",
      " 26  Pivot Info              7049 non-null   object \n",
      " 27  Unnamed: 27             0 non-null      float64\n",
      " 28  Unnamed: 28             3 non-null      object \n",
      "dtypes: bool(6), float64(5), int64(5), object(13)\n",
      "memory usage: 1.3+ MB\n"
     ]
    }
   ],
   "source": [
    "df.info()"
   ]
  },
  {
   "cell_type": "code",
   "execution_count": 11,
   "metadata": {},
   "outputs": [
    {
     "data": {
      "text/html": [
       "<div>\n",
       "<style scoped>\n",
       "    .dataframe tbody tr th:only-of-type {\n",
       "        vertical-align: middle;\n",
       "    }\n",
       "\n",
       "    .dataframe tbody tr th {\n",
       "        vertical-align: top;\n",
       "    }\n",
       "\n",
       "    .dataframe thead th {\n",
       "        text-align: right;\n",
       "    }\n",
       "</style>\n",
       "<table border=\"1\" class=\"dataframe\">\n",
       "  <thead>\n",
       "    <tr style=\"text-align: right;\">\n",
       "      <th></th>\n",
       "      <th>mean</th>\n",
       "    </tr>\n",
       "    <tr>\n",
       "      <th>Contract_type</th>\n",
       "      <th></th>\n",
       "    </tr>\n",
       "  </thead>\n",
       "  <tbody>\n",
       "    <tr>\n",
       "      <th>1 Year</th>\n",
       "      <td>65.061721</td>\n",
       "    </tr>\n",
       "    <tr>\n",
       "      <th>2 Year</th>\n",
       "      <td>60.722422</td>\n",
       "    </tr>\n",
       "    <tr>\n",
       "      <th>Month-to-Month</th>\n",
       "      <td>66.389229</td>\n",
       "    </tr>\n",
       "  </tbody>\n",
       "</table>\n",
       "</div>"
      ],
      "text/plain": [
       "                     mean\n",
       "Contract_type            \n",
       "1 Year          65.061721\n",
       "2 Year          60.722422\n",
       "Month-to-Month  66.389229"
      ]
     },
     "execution_count": 11,
     "metadata": {},
     "output_type": "execute_result"
    }
   ],
   "source": [
    "df.groupby(['Contract_type']).monthly_charges.agg(['mean'])"
   ]
  },
  {
   "cell_type": "code",
   "execution_count": 12,
   "metadata": {},
   "outputs": [
    {
     "data": {
      "text/html": [
       "<div>\n",
       "<style scoped>\n",
       "    .dataframe tbody tr th:only-of-type {\n",
       "        vertical-align: middle;\n",
       "    }\n",
       "\n",
       "    .dataframe tbody tr th {\n",
       "        vertical-align: top;\n",
       "    }\n",
       "\n",
       "    .dataframe thead th {\n",
       "        text-align: right;\n",
       "    }\n",
       "</style>\n",
       "<table border=\"1\" class=\"dataframe\">\n",
       "  <thead>\n",
       "    <tr style=\"text-align: right;\">\n",
       "      <th></th>\n",
       "      <th>mean</th>\n",
       "    </tr>\n",
       "    <tr>\n",
       "      <th>Contract_type</th>\n",
       "      <th></th>\n",
       "    </tr>\n",
       "  </thead>\n",
       "  <tbody>\n",
       "    <tr>\n",
       "      <th>1 Year</th>\n",
       "      <td>42.029675</td>\n",
       "    </tr>\n",
       "    <tr>\n",
       "      <th>2 Year</th>\n",
       "      <td>56.785700</td>\n",
       "    </tr>\n",
       "    <tr>\n",
       "      <th>Month-to-Month</th>\n",
       "      <td>18.019748</td>\n",
       "    </tr>\n",
       "  </tbody>\n",
       "</table>\n",
       "</div>"
      ],
      "text/plain": [
       "                     mean\n",
       "Contract_type            \n",
       "1 Year          42.029675\n",
       "2 Year          56.785700\n",
       "Month-to-Month  18.019748"
      ]
     },
     "execution_count": 12,
     "metadata": {},
     "output_type": "execute_result"
    }
   ],
   "source": [
    "df.groupby(['Contract_type']).tenure.agg(['mean'])"
   ]
  },
  {
   "cell_type": "code",
   "execution_count": 20,
   "metadata": {},
   "outputs": [
    {
     "data": {
      "text/html": [
       "<div>\n",
       "<style scoped>\n",
       "    .dataframe tbody tr th:only-of-type {\n",
       "        vertical-align: middle;\n",
       "    }\n",
       "\n",
       "    .dataframe tbody tr th {\n",
       "        vertical-align: top;\n",
       "    }\n",
       "\n",
       "    .dataframe thead th {\n",
       "        text-align: right;\n",
       "    }\n",
       "</style>\n",
       "<table border=\"1\" class=\"dataframe\">\n",
       "  <thead>\n",
       "    <tr style=\"text-align: right;\">\n",
       "      <th></th>\n",
       "      <th>count</th>\n",
       "    </tr>\n",
       "    <tr>\n",
       "      <th>Contract_type</th>\n",
       "      <th></th>\n",
       "    </tr>\n",
       "  </thead>\n",
       "  <tbody>\n",
       "    <tr>\n",
       "      <th>1 Year</th>\n",
       "      <td>1476</td>\n",
       "    </tr>\n",
       "    <tr>\n",
       "      <th>2 Year</th>\n",
       "      <td>1697</td>\n",
       "    </tr>\n",
       "    <tr>\n",
       "      <th>Month-to-Month</th>\n",
       "      <td>3876</td>\n",
       "    </tr>\n",
       "  </tbody>\n",
       "</table>\n",
       "</div>"
      ],
      "text/plain": [
       "                count\n",
       "Contract_type        \n",
       "1 Year           1476\n",
       "2 Year           1697\n",
       "Month-to-Month   3876"
      ]
     },
     "execution_count": 20,
     "metadata": {},
     "output_type": "execute_result"
    }
   ],
   "source": [
    "df.groupby(['Contract_type']).has_phone_and_internet.agg(['count'])"
   ]
  },
  {
   "cell_type": "code",
   "execution_count": 21,
   "metadata": {},
   "outputs": [
    {
     "data": {
      "text/plain": [
       "Month-to-Month    3876\n",
       "2 Year            1697\n",
       "1 Year            1476\n",
       "Name: Contract_type, dtype: int64"
      ]
     },
     "execution_count": 21,
     "metadata": {},
     "output_type": "execute_result"
    }
   ],
   "source": [
    "df.Contract_type.value_counts()"
   ]
  },
  {
   "cell_type": "code",
   "execution_count": null,
   "metadata": {},
   "outputs": [],
   "source": []
  }
 ],
 "metadata": {
  "kernelspec": {
   "display_name": "Python 3",
   "language": "python",
   "name": "python3"
  },
  "language_info": {
   "codemirror_mode": {
    "name": "ipython",
    "version": 3
   },
   "file_extension": ".py",
   "mimetype": "text/x-python",
   "name": "python",
   "nbconvert_exporter": "python",
   "pygments_lexer": "ipython3",
   "version": "3.7.6"
  }
 },
 "nbformat": 4,
 "nbformat_minor": 4
}
